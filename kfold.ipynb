{
 "cells": [
  {
   "cell_type": "code",
   "execution_count": 5,
   "metadata": {},
   "outputs": [],
   "source": [
    "import pandas as pd\n",
    "from sklearn.model_selection import KFold\n",
    "import numpy as np\n",
    "from sklearn.metrics import accuracy_score\n",
    "from sklearn import tree\n",
    "import matplotlib.pyplot as plt\n",
    "import seaborn as sns"
   ]
  },
  {
   "cell_type": "code",
   "execution_count": 6,
   "metadata": {},
   "outputs": [
    {
     "name": "stdout",
     "output_type": "stream",
     "text": [
      "            Date   Close    High     Low    Open\n",
      "0     2001-08-01  0.8810  0.8831  0.8748  0.8751\n",
      "1     2001-08-02  0.8828  0.8841  0.8779  0.8811\n",
      "2     2001-08-03  0.8840  0.8876  0.8772  0.8830\n",
      "3     2001-08-06  0.8818  0.8832  0.8780  0.8830\n",
      "4     2001-08-07  0.8771  0.8824  0.8744  0.8816\n",
      "...          ...     ...     ...     ...     ...\n",
      "4996  2019-09-17  1.1071  1.1075  1.0989  1.1005\n",
      "4997  2019-09-18  1.1031  1.1076  1.1012  1.1071\n",
      "4998  2019-09-19  1.1045  1.1074  1.1021  1.1031\n",
      "4999  2019-09-20  1.1017  1.1068  1.0995  1.1045\n",
      "5000  2019-09-21  1.1017  1.1022  1.1000  1.1003\n",
      "\n",
      "[5001 rows x 5 columns]\n"
     ]
    }
   ],
   "source": [
    "eur_usd=pd.read_csv(\"eurusd.csv\")\n",
    "print(eur_usd)"
   ]
  },
  {
   "cell_type": "code",
   "execution_count": 7,
   "metadata": {},
   "outputs": [
    {
     "data": {
      "text/html": [
       "<div>\n",
       "<style scoped>\n",
       "    .dataframe tbody tr th:only-of-type {\n",
       "        vertical-align: middle;\n",
       "    }\n",
       "\n",
       "    .dataframe tbody tr th {\n",
       "        vertical-align: top;\n",
       "    }\n",
       "\n",
       "    .dataframe thead th {\n",
       "        text-align: right;\n",
       "    }\n",
       "</style>\n",
       "<table border=\"1\" class=\"dataframe\">\n",
       "  <thead>\n",
       "    <tr style=\"text-align: right;\">\n",
       "      <th></th>\n",
       "      <th>Date</th>\n",
       "      <th>Close</th>\n",
       "      <th>High</th>\n",
       "      <th>Low</th>\n",
       "      <th>Open</th>\n",
       "    </tr>\n",
       "  </thead>\n",
       "  <tbody>\n",
       "    <tr>\n",
       "      <th>0</th>\n",
       "      <td>2001-08-01</td>\n",
       "      <td>0.8810</td>\n",
       "      <td>0.8831</td>\n",
       "      <td>0.8748</td>\n",
       "      <td>0.8751</td>\n",
       "    </tr>\n",
       "    <tr>\n",
       "      <th>1</th>\n",
       "      <td>2001-08-02</td>\n",
       "      <td>0.8828</td>\n",
       "      <td>0.8841</td>\n",
       "      <td>0.8779</td>\n",
       "      <td>0.8811</td>\n",
       "    </tr>\n",
       "    <tr>\n",
       "      <th>2</th>\n",
       "      <td>2001-08-03</td>\n",
       "      <td>0.8840</td>\n",
       "      <td>0.8876</td>\n",
       "      <td>0.8772</td>\n",
       "      <td>0.8830</td>\n",
       "    </tr>\n",
       "    <tr>\n",
       "      <th>3</th>\n",
       "      <td>2001-08-06</td>\n",
       "      <td>0.8818</td>\n",
       "      <td>0.8832</td>\n",
       "      <td>0.8780</td>\n",
       "      <td>0.8830</td>\n",
       "    </tr>\n",
       "    <tr>\n",
       "      <th>4</th>\n",
       "      <td>2001-08-07</td>\n",
       "      <td>0.8771</td>\n",
       "      <td>0.8824</td>\n",
       "      <td>0.8744</td>\n",
       "      <td>0.8816</td>\n",
       "    </tr>\n",
       "  </tbody>\n",
       "</table>\n",
       "</div>"
      ],
      "text/plain": [
       "         Date   Close    High     Low    Open\n",
       "0  2001-08-01  0.8810  0.8831  0.8748  0.8751\n",
       "1  2001-08-02  0.8828  0.8841  0.8779  0.8811\n",
       "2  2001-08-03  0.8840  0.8876  0.8772  0.8830\n",
       "3  2001-08-06  0.8818  0.8832  0.8780  0.8830\n",
       "4  2001-08-07  0.8771  0.8824  0.8744  0.8816"
      ]
     },
     "execution_count": 7,
     "metadata": {},
     "output_type": "execute_result"
    }
   ],
   "source": [
    "eur_usd.head()"
   ]
  },
  {
   "cell_type": "code",
   "execution_count": 8,
   "metadata": {},
   "outputs": [],
   "source": [
    "def create_features(fx_data):\n",
    "    \n",
    "    fx_data=fx_data.sort_values('Date')\n",
    "    \n",
    "    #Features\n",
    "    fx_data['High-low']=fx_data[\"High\"]-fx_data[\"Low\"]\n",
    "    fx_data['pct_change']=fx_data['Close'].pct_change()\n",
    "    fx_data['ret_5']=fx_data['pct_change'].rolling(5).mean()\n",
    "    \n",
    "    #Rsi Indicator\n",
    "    close=fx_data[\"Close\"]\n",
    "    delta=close.diff()\n",
    "    delta=delta[1:]\n",
    "    up,down=delta.copy(),delta.copy()\n",
    "    up[up<0]=0\n",
    "    down[down>0]=0\n",
    "    \n",
    "    #Calculate ema\n",
    "    roll_up=up.rolling(center=False,window=14).mean()\n",
    "    roll_down=abs(down).rolling(center=False,window=14).mean()\n",
    "    \n",
    "    #Calculate rsi based on ewma\n",
    "    \n",
    "    RS=roll_up/roll_down\n",
    "    RSI=100-(100/(1.0+RS))\n",
    "    \n",
    "    fx_data['RSI']=RSI\n",
    "    fx_data.dropna(inplace=True)\n",
    "    \n",
    "    target=np.where(fx_data['Close'].shift(-1)>fx_data['Close'],1, -1)\n",
    "    \n",
    "    return fx_data, target\n",
    "    "
   ]
  },
  {
   "cell_type": "code",
   "execution_count": 9,
   "metadata": {},
   "outputs": [],
   "source": [
    "features, target=create_features(eur_usd)"
   ]
  },
  {
   "cell_type": "code",
   "execution_count": 10,
   "metadata": {},
   "outputs": [],
   "source": [
    "X=features[[\"High-low\",\"pct_change\",\"ret_5\",\"RSI\"]]\n",
    "y=target"
   ]
  },
  {
   "cell_type": "code",
   "execution_count": 11,
   "metadata": {},
   "outputs": [],
   "source": [
    "length_to_split=int(len(features)*0.8)\n",
    "X_train,X_test=X[:length_to_split],X[length_to_split:]\n",
    "y_train,y_test=y[:length_to_split],y[length_to_split:]"
   ]
  },
  {
   "cell_type": "code",
   "execution_count": 12,
   "metadata": {},
   "outputs": [
    {
     "name": "stdout",
     "output_type": "stream",
     "text": [
      "(3989, 4) (998, 4)\n",
      "(3989,) (998,)\n"
     ]
    }
   ],
   "source": [
    "print(X_train.shape,X_test.shape)\n",
    "print(y_train.shape,y_test.shape)"
   ]
  },
  {
   "cell_type": "code",
   "execution_count": 13,
   "metadata": {},
   "outputs": [],
   "source": [
    "clf=tree.DecisionTreeClassifier(random_state=20)"
   ]
  },
  {
   "cell_type": "code",
   "execution_count": 14,
   "metadata": {},
   "outputs": [],
   "source": [
    "model=clf.fit(X_train,y_train)"
   ]
  },
  {
   "cell_type": "code",
   "execution_count": 15,
   "metadata": {},
   "outputs": [
    {
     "name": "stdout",
     "output_type": "stream",
     "text": [
      "51.302605210420836\n"
     ]
    }
   ],
   "source": [
    "print(accuracy_score(y_test,model.predict(X_test),normalize=True)*100)"
   ]
  },
  {
   "cell_type": "code",
   "execution_count": 16,
   "metadata": {},
   "outputs": [
    {
     "data": {
      "text/plain": [
       "<generator object _BaseKFold.split at 0x05311BB0>"
      ]
     },
     "execution_count": 16,
     "metadata": {},
     "output_type": "execute_result"
    }
   ],
   "source": [
    "#Kfold validation approach\n",
    "kf=KFold(n_splits=5,shuffle=False)\n",
    "kf.split(X)"
   ]
  },
  {
   "cell_type": "code",
   "execution_count": 17,
   "metadata": {},
   "outputs": [
    {
     "name": "stdout",
     "output_type": "stream",
     "text": [
      "[50.50100200400801, 52.104208416833664, 48.946840521564695, 46.138415245737214, 51.25376128385155]\n"
     ]
    }
   ],
   "source": [
    "#Initialize the accuracy to a blank list\n",
    "accuracy_model=[]\n",
    "for train_index,test_index in kf.split(X):\n",
    "    X_train,X_test=X.iloc[train_index],X.iloc[test_index]\n",
    "    y_train,y_test=y[train_index],y[test_index]\n",
    "    # Train the model\n",
    "    model=clf.fit(X_train,y_train)\n",
    "    accuracy_model.append(accuracy_score(y_test,model.predict(X_test),normalize=True)*100)\n",
    "\n",
    "# Print accuacy\n",
    "print(accuracy_model)"
   ]
  },
  {
   "cell_type": "code",
   "execution_count": 18,
   "metadata": {},
   "outputs": [
    {
     "data": {
      "image/png": "[encoded data removed]",
      "text/plain": [
       "<Figure size 432x288 with 1 Axes>"
      ]
     },
     "metadata": {},
     "output_type": "display_data"
    }
   ],
   "source": [
    "scores=pd.DataFrame(accuracy_model,columns=['Scores'])\n",
    "\n",
    "sns.set(style=\"white\",rc={\"lines.linewidth\":3})\n",
    "sns.barplot(x= ['Iter1','Iter2','Iter3','Iter4','Iter5'],y=\"Scores\",data=scores)\n",
    "plt.show()\n",
    "sns.set()"
   ]
  },
  {
   "cell_type": "code",
   "execution_count": null,
   "metadata": {},
   "outputs": [],
   "source": []
  }
 ],
 "metadata": {
  "kernelspec": {
   "display_name": "Python 3",
   "language": "python",
   "name": "python3"
  },
  "language_info": {
   "codemirror_mode": {
    "name": "ipython",
    "version": 3
   },
   "file_extension": ".py",
   "mimetype": "text/x-python",
   "name": "python",
   "nbconvert_exporter": "python",
   "pygments_lexer": "ipython3",
   "version": "3.7.6"
  }
 },
 "nbformat": 4,
 "nbformat_minor": 4
}
