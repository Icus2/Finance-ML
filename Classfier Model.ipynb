{
 "cells": [
  {
   "cell_type": "code",
   "execution_count": 1,
   "metadata": {},
   "outputs": [],
   "source": [
    "import numpy as np\n",
    "import pandas as pd\n",
    "import datetime\n",
    "from sklearn.ensemble import RandomForestClassifier\n",
    "from sklearn.linear_model import LogisticRegression\n",
    "from sklearn.discriminant_analysis import LinearDiscriminantAnalysis as LDA\n",
    "from sklearn.metrics import confusion_matrix\n",
    "from sklearn.svm import LinearSVC, SVC\n",
    "data=pd.read_csv(\"spy_data.csv\",index_col='Date')"
   ]
  },
  {
   "cell_type": "code",
   "execution_count": 2,
   "metadata": {},
   "outputs": [],
   "source": [
    "def model_variables(prices,lags):\n",
    "    prices=prices.apply(pd.to_numeric)\n",
    "    inputs=pd.DataFrame(index=prices.index)\n",
    "    \n",
    "    inputs[\"Close\"]=prices[\"Close\"]\n",
    "    inputs[\"Volume\"]=prices[\"Volume\"]\n",
    "    for i in range(0,lags):\n",
    "        tsret=pd.DataFrame(index=inputs.index)\n",
    "        inputs[\"Lag%s\" % str(i+1)]=prices[\"Close\"].shift(i+1)\n",
    "    tsret[\"VolumeChange\"]=inputs[\"Volume\"].pct_change()\n",
    "    tsret[\"returns\"]=inputs[\"Close\"].pct_change()*100.0\n",
    "    for i,x in enumerate(tsret[\"returns\"]):\n",
    "        if (abs(x)<0.0001):\n",
    "            tsret[\"returns\"][i]=0.0001\n",
    "            \n",
    "    for i in range(0,lags):\n",
    "        tsret[\"Lag%s\" % str(i+1)]=\\\n",
    "          inputs[\"Lag%s\" % str(i+1)].pct_change()*100.0\n",
    "        \n",
    "    tsret=tsret.dropna()\n",
    "    tsret[\"Direction\"]=np.sign(tsret[\"returns\"])\n",
    "    \n",
    "    tsret.index=pd.to_datetime(tsret.index)\n",
    "    return tsret\n"
   ]
  },
  {
   "cell_type": "code",
   "execution_count": 3,
   "metadata": {},
   "outputs": [],
   "source": [
    "variables_data=model_variables(data,2)\n",
    "dataset=variables_data[[\"Lag1\",\"Lag2\",\"VolumeChange\",\"Direction\"]]\n",
    "dataset=dataset.dropna()\n",
    "\n",
    "X=dataset[[\"Lag1\",\"Lag2\",\"VolumeChange\"]]\n",
    "y=dataset[\"Direction\"]"
   ]
  },
  {
   "cell_type": "code",
   "execution_count": 6,
   "metadata": {},
   "outputs": [
    {
     "data": {
      "text/plain": [
       " 1.0    640\n",
       "-1.0    543\n",
       "Name: Direction, dtype: int64"
      ]
     },
     "execution_count": 6,
     "metadata": {},
     "output_type": "execute_result"
    }
   ],
   "source": [
    "y.value_counts()"
   ]
  },
  {
   "cell_type": "code",
   "execution_count": 7,
   "metadata": {},
   "outputs": [],
   "source": [
    "date_split=datetime.datetime(2019,1,1)\n",
    "\n",
    "X_train=X[X.index<=date_split]\n",
    "X_test=X[X.index>date_split]\n",
    "y_train=y[y.index<=date_split]\n",
    "y_test=y[y.index>date_split]"
   ]
  },
  {
   "cell_type": "code",
   "execution_count": 8,
   "metadata": {},
   "outputs": [
    {
     "data": {
      "text/plain": [
       "(180, 3)"
      ]
     },
     "execution_count": 8,
     "metadata": {},
     "output_type": "execute_result"
    }
   ],
   "source": [
    "X_test.shape"
   ]
  },
  {
   "cell_type": "code",
   "execution_count": null,
   "metadata": {},
   "outputs": [],
   "source": []
  },
  {
   "cell_type": "code",
   "execution_count": 9,
   "metadata": {},
   "outputs": [
    {
     "name": "stdout",
     "output_type": "stream",
     "text": [
      "Hit Rates/Confusion Matrices:\n",
      "\n",
      "LR:\n",
      "0.583\n",
      "[[28 29]\n",
      " [46 77]]\n",
      "\n",
      "LDA:\n",
      "0.589"
     ]
    },
    {
     "name": "stderr",
     "output_type": "stream",
     "text": [
      "C:\\Users\\mk7mpo\\anaconda3\\lib\\site-packages\\sklearn\\linear_model\\logistic.py:432: FutureWarning: Default solver will be changed to 'lbfgs' in 0.22. Specify a solver to silence this warning.\n",
      "  FutureWarning)\n"
     ]
    },
    {
     "name": "stdout",
     "output_type": "stream",
     "text": [
      "\n",
      "[[28 28]\n",
      " [46 78]]\n",
      "\n",
      "LSVC:\n",
      "0.583\n",
      "[[28 29]\n",
      " [46 77]]\n",
      "\n",
      "RSVM:\n",
      "0.572\n",
      "[[20 23]\n",
      " [54 83]]\n",
      "\n",
      "RF:\n",
      "0.600\n",
      "[[33 31]\n",
      " [41 75]]\n",
      "\n"
     ]
    }
   ],
   "source": [
    "print(\"Hit Rates/Confusion Matrices:\\n\")\n",
    "models=[(\"LR\",LogisticRegression()),(\"LDA\",LDA()), (\"LSVC\",LinearSVC()),(\"RSVM\",SVC(C=1000000.0,cache_size=200,class_weight=None,coef0=0.0,degree=3,gamma=0.0001,kernel='rbf',max_iter=-1,probability=False,random_state=None,shrinking=True,tol=0.001,verbose=False)),(\"RF\",RandomForestClassifier(n_estimators=1000,criterion='gini',max_depth=None, min_samples_split=2,min_samples_leaf=30,max_features='auto',bootstrap=True,oob_score=False,n_jobs=1,random_state=None,verbose=0))]\n",
    "for m in models:\n",
    "    m[1].fit(X_train,y_train)\n",
    "    pred=m[1].predict(X_test)\n",
    "    \n",
    "    print(\"%s:\\n%0.3f\" % (m[0],m[1].score(X_test,y_test)))\n",
    "    print(\"%s\\n\" % confusion_matrix(pred,y_test))"
   ]
  },
  {
   "cell_type": "code",
   "execution_count": null,
   "metadata": {},
   "outputs": [],
   "source": []
  }
 ],
 "metadata": {
  "kernelspec": {
   "display_name": "Python 3",
   "language": "python",
   "name": "python3"
  },
  "language_info": {
   "codemirror_mode": {
    "name": "ipython",
    "version": 3
   },
   "file_extension": ".py",
   "mimetype": "text/x-python",
   "name": "python",
   "nbconvert_exporter": "python",
   "pygments_lexer": "ipython3",
   "version": "3.7.6"
  }
 },
 "nbformat": 4,
 "nbformat_minor": 4
}
